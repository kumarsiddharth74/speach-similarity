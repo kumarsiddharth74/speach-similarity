{
  "nbformat": 4,
  "nbformat_minor": 0,
  "metadata": {
    "colab": {
      "name": "speach comparision.ipynb",
      "provenance": []
    },
    "kernelspec": {
      "name": "python3",
      "display_name": "Python 3"
    },
    "language_info": {
      "name": "python"
    }
  },
  "cells": [
    {
      "cell_type": "code",
      "metadata": {
        "colab": {
          "base_uri": "https://localhost:8080/"
        },
        "id": "PDV1dBOHGMjG",
        "outputId": "d991591c-5196-404f-fb43-abd69f057658"
      },
      "source": [
        "pip install SpeechRecognition"
      ],
      "execution_count": 1,
      "outputs": [
        {
          "output_type": "stream",
          "name": "stdout",
          "text": [
            "Collecting SpeechRecognition\n",
            "  Downloading SpeechRecognition-3.8.1-py2.py3-none-any.whl (32.8 MB)\n",
            "\u001b[K     |████████████████████████████████| 32.8 MB 185 kB/s \n",
            "\u001b[?25hInstalling collected packages: SpeechRecognition\n",
            "Successfully installed SpeechRecognition-3.8.1\n"
          ]
        }
      ]
    },
    {
      "cell_type": "code",
      "metadata": {
        "id": "lVvqmegMZErT"
      },
      "source": [
        "from sklearn.feature_extraction.text import TfidfVectorizer\n",
        "from sklearn.metrics.pairwise import linear_kernel\n",
        "import speech_recognition as sr"
      ],
      "execution_count": null,
      "outputs": []
    },
    {
      "cell_type": "code",
      "metadata": {
        "colab": {
          "base_uri": "https://localhost:8080/"
        },
        "id": "4LLjiji0GPlz",
        "outputId": "97e63b34-a713-48ab-c7a2-d26fb762931d"
      },
      "source": [
        "# Initialize recognizer class (for recognizing the speech)\n",
        "r = sr.Recognizer()\n",
        "\n",
        "# Reading Audio file as source\n",
        "# listening the audio file and store in audio_text variable\n",
        "b1='hesagoodperson_basefile.wav'\n",
        "l1=['hesagoodperson_compairson3.wav','tomisagoodperson_comparison2.wav']\n",
        "l2=[]\n",
        "with sr.AudioFile(b1) as source:\n",
        "    \n",
        "    audio_text = r.listen(source)\n",
        "    \n",
        "# recoginize_() method will throw a request error if the API is unreachable, hence using exception handling\n",
        "    try:\n",
        "        \n",
        "        # using google speech recognition\n",
        "        text = r.recognize_google(audio_text)\n",
        "        print('Converting audio transcripts into text ...')\n",
        "        print(text)\n",
        "     \n",
        "    except:\n",
        "         print('Sorry.. run again...')\n",
        "#converting other files to text\n",
        "for i in l1:\n",
        "  with sr.AudioFile(i) as source:\n",
        "    \n",
        "    audio_text = r.listen(source)\n",
        "    \n",
        "# recoginize_() method will throw a request error if the API is unreachable, hence using exception handling\n",
        "    try:\n",
        "        \n",
        "        # using google speech recognition\n",
        "        text1 = r.recognize_google(audio_text)\n",
        "        print('Converting audio transcripts into text ...')\n",
        "        l2.append(text1)\n",
        "     \n",
        "    except:\n",
        "         print('Sorry.. run again...')\n"
      ],
      "execution_count": 4,
      "outputs": [
        {
          "output_type": "stream",
          "name": "stdout",
          "text": [
            "Converting audio transcripts into text ...\n",
            "he's a good person\n",
            "Converting audio transcripts into text ...\n",
            "Converting audio transcripts into text ...\n"
          ]
        }
      ]
    },
    {
      "cell_type": "code",
      "metadata": {
        "id": "Zebf7ZIsJ6YQ"
      },
      "source": [
        "#using tf-idf for calculating similarity\n",
        "search_terms = text\n",
        "documents = l2\n",
        "\n",
        "doc_vectors = TfidfVectorizer().fit_transform([search_terms] + documents)\n",
        "\n",
        "cosine_similarities = linear_kernel(doc_vectors[0:1], doc_vectors).flatten()\n",
        "document_scores = [item.item() for item in cosine_similarities[1:]]"
      ],
      "execution_count": 8,
      "outputs": []
    },
    {
      "cell_type": "code",
      "metadata": {
        "colab": {
          "base_uri": "https://localhost:8080/"
        },
        "id": "BMxZEujiSuM3",
        "outputId": "fa84590c-d30b-4c47-aad3-c8e66532591f"
      },
      "source": [
        "for i in range(len(l1)):\n",
        "  print('the text \"{}\" has similarity score {} with base text \"{}\"'.format(l2[i],document_scores[i],text))"
      ],
      "execution_count": 22,
      "outputs": [
        {
          "output_type": "stream",
          "name": "stdout",
          "text": [
            "the text \"he's a good person\" has similarity score 1.0 with base text \"he's a good person\"\n",
            "the text \"Tom is a good person\" has similarity score 0.37602162360618324 with base text \"he's a good person\"\n"
          ]
        }
      ]
    }
  ]
}